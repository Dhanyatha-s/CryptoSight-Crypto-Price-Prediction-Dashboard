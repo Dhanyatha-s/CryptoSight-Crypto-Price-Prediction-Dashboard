{
 "cells": [
  {
   "cell_type": "code",
   "execution_count": 1,
   "metadata": {},
   "outputs": [
    {
     "name": "stdout",
     "output_type": "stream",
     "text": [
      "Successfully connected to Snowflake\n"
     ]
    }
   ],
   "source": [
    "from connection import engine\n",
    "import pandas as pd\n",
    "import dask.dataframe as dd\n",
    "from dask_ml.model_selection import train_test_split\n",
    "from sklearn.linear_model import LinearRegression\n",
    "from sklearn.metrics import mean_absolute_error\n"
   ]
  },
  {
   "cell_type": "code",
   "execution_count": 2,
   "metadata": {},
   "outputs": [],
   "source": [
    "def fetch_cleaned_data():\n",
    "    with engine.connect() as conn:\n",
    "        df = pd.read_sql(\"SELECT * FROM crypto_market_cleaned;\", conn)\n",
    "    return df\n",
    "\n",
    "df = fetch_cleaned_data()"
   ]
  },
  {
   "cell_type": "code",
   "execution_count": 3,
   "metadata": {},
   "outputs": [
    {
     "data": {
      "text/html": [
       "<div>\n",
       "<style scoped>\n",
       "    .dataframe tbody tr th:only-of-type {\n",
       "        vertical-align: middle;\n",
       "    }\n",
       "\n",
       "    .dataframe tbody tr th {\n",
       "        vertical-align: top;\n",
       "    }\n",
       "\n",
       "    .dataframe thead th {\n",
       "        text-align: right;\n",
       "    }\n",
       "</style>\n",
       "<table border=\"1\" class=\"dataframe\">\n",
       "  <thead>\n",
       "    <tr style=\"text-align: right;\">\n",
       "      <th></th>\n",
       "      <th>id</th>\n",
       "      <th>symbol</th>\n",
       "      <th>name</th>\n",
       "      <th>current_price</th>\n",
       "      <th>market_cap</th>\n",
       "      <th>market_cap_rank</th>\n",
       "      <th>fully_diluted_valuation</th>\n",
       "      <th>total_volume</th>\n",
       "      <th>high_24h</th>\n",
       "      <th>low_24h</th>\n",
       "      <th>...</th>\n",
       "      <th>circulating_supply</th>\n",
       "      <th>total_supply</th>\n",
       "      <th>max_supply</th>\n",
       "      <th>ath</th>\n",
       "      <th>ath_change_percentage</th>\n",
       "      <th>ath_date</th>\n",
       "      <th>atl</th>\n",
       "      <th>atl_change_percentage</th>\n",
       "      <th>atl_date</th>\n",
       "      <th>last_updated</th>\n",
       "    </tr>\n",
       "  </thead>\n",
       "  <tbody>\n",
       "    <tr>\n",
       "      <th>0</th>\n",
       "      <td>bitcoin</td>\n",
       "      <td>btc</td>\n",
       "      <td>Bitcoin</td>\n",
       "      <td>82870.000000</td>\n",
       "      <td>1648762403249</td>\n",
       "      <td>1</td>\n",
       "      <td>1648762403249</td>\n",
       "      <td>5.673585e+10</td>\n",
       "      <td>87791.000000</td>\n",
       "      <td>82277.000000</td>\n",
       "      <td>...</td>\n",
       "      <td>1.984587e+07</td>\n",
       "      <td>1.984587e+07</td>\n",
       "      <td>2.100000e+07</td>\n",
       "      <td>108786.00</td>\n",
       "      <td>-23.66032</td>\n",
       "      <td>2025-01-20T09:11:54.494Z</td>\n",
       "      <td>67.810000</td>\n",
       "      <td>1.223712e+05</td>\n",
       "      <td>2013-07-06T00:00:00.000Z</td>\n",
       "      <td>2025-04-03 12:07:04.671</td>\n",
       "    </tr>\n",
       "    <tr>\n",
       "      <th>1</th>\n",
       "      <td>ethereum</td>\n",
       "      <td>eth</td>\n",
       "      <td>Ethereum</td>\n",
       "      <td>1791.020000</td>\n",
       "      <td>216571537533</td>\n",
       "      <td>2</td>\n",
       "      <td>216571537533</td>\n",
       "      <td>2.531752e+10</td>\n",
       "      <td>1934.100000</td>\n",
       "      <td>1787.860000</td>\n",
       "      <td>...</td>\n",
       "      <td>1.206644e+08</td>\n",
       "      <td>1.206645e+08</td>\n",
       "      <td>0.000000e+00</td>\n",
       "      <td>4878.26</td>\n",
       "      <td>-63.21902</td>\n",
       "      <td>2021-11-10T14:24:19.604Z</td>\n",
       "      <td>0.432979</td>\n",
       "      <td>4.143018e+05</td>\n",
       "      <td>2015-10-20T00:00:00.000Z</td>\n",
       "      <td>2025-04-03 12:06:57.337</td>\n",
       "    </tr>\n",
       "    <tr>\n",
       "      <th>2</th>\n",
       "      <td>tether</td>\n",
       "      <td>usdt</td>\n",
       "      <td>Tether</td>\n",
       "      <td>0.999769</td>\n",
       "      <td>144001534362</td>\n",
       "      <td>3</td>\n",
       "      <td>144001534362</td>\n",
       "      <td>8.331170e+10</td>\n",
       "      <td>1.000000</td>\n",
       "      <td>0.999644</td>\n",
       "      <td>...</td>\n",
       "      <td>1.440343e+11</td>\n",
       "      <td>1.440343e+11</td>\n",
       "      <td>0.000000e+00</td>\n",
       "      <td>1.32</td>\n",
       "      <td>-24.43664</td>\n",
       "      <td>2018-07-24T00:00:00.000Z</td>\n",
       "      <td>0.572521</td>\n",
       "      <td>7.462682e+01</td>\n",
       "      <td>2015-03-02T00:00:00.000Z</td>\n",
       "      <td>2025-04-03 12:06:58.056</td>\n",
       "    </tr>\n",
       "    <tr>\n",
       "      <th>3</th>\n",
       "      <td>ripple</td>\n",
       "      <td>xrp</td>\n",
       "      <td>XRP</td>\n",
       "      <td>2.030000</td>\n",
       "      <td>118284939947</td>\n",
       "      <td>4</td>\n",
       "      <td>203191002077</td>\n",
       "      <td>6.299024e+09</td>\n",
       "      <td>2.190000</td>\n",
       "      <td>2.000000</td>\n",
       "      <td>...</td>\n",
       "      <td>5.820570e+10</td>\n",
       "      <td>9.998630e+10</td>\n",
       "      <td>1.000000e+11</td>\n",
       "      <td>3.40</td>\n",
       "      <td>-40.24346</td>\n",
       "      <td>2018-01-07T00:00:00.000Z</td>\n",
       "      <td>0.002686</td>\n",
       "      <td>7.550089e+04</td>\n",
       "      <td>2014-05-22T00:00:00.000Z</td>\n",
       "      <td>2025-04-03 12:06:53.977</td>\n",
       "    </tr>\n",
       "    <tr>\n",
       "      <th>4</th>\n",
       "      <td>binancecoin</td>\n",
       "      <td>bnb</td>\n",
       "      <td>BNB</td>\n",
       "      <td>592.010000</td>\n",
       "      <td>86546598204</td>\n",
       "      <td>5</td>\n",
       "      <td>86546598204</td>\n",
       "      <td>1.864669e+09</td>\n",
       "      <td>611.360000</td>\n",
       "      <td>584.990000</td>\n",
       "      <td>...</td>\n",
       "      <td>1.458876e+08</td>\n",
       "      <td>1.458876e+08</td>\n",
       "      <td>2.000000e+08</td>\n",
       "      <td>788.84</td>\n",
       "      <td>-24.81959</td>\n",
       "      <td>2024-12-04T10:35:25.220Z</td>\n",
       "      <td>0.039818</td>\n",
       "      <td>1.489328e+06</td>\n",
       "      <td>2017-10-19T00:00:00.000Z</td>\n",
       "      <td>2025-04-03 12:07:04.510</td>\n",
       "    </tr>\n",
       "    <tr>\n",
       "      <th>...</th>\n",
       "      <td>...</td>\n",
       "      <td>...</td>\n",
       "      <td>...</td>\n",
       "      <td>...</td>\n",
       "      <td>...</td>\n",
       "      <td>...</td>\n",
       "      <td>...</td>\n",
       "      <td>...</td>\n",
       "      <td>...</td>\n",
       "      <td>...</td>\n",
       "      <td>...</td>\n",
       "      <td>...</td>\n",
       "      <td>...</td>\n",
       "      <td>...</td>\n",
       "      <td>...</td>\n",
       "      <td>...</td>\n",
       "      <td>...</td>\n",
       "      <td>...</td>\n",
       "      <td>...</td>\n",
       "      <td>...</td>\n",
       "      <td>...</td>\n",
       "    </tr>\n",
       "    <tr>\n",
       "      <th>95</th>\n",
       "      <td>injective-protocol</td>\n",
       "      <td>inj</td>\n",
       "      <td>Injective</td>\n",
       "      <td>8.150000</td>\n",
       "      <td>798598732</td>\n",
       "      <td>96</td>\n",
       "      <td>817171233</td>\n",
       "      <td>9.010431e+07</td>\n",
       "      <td>9.050000</td>\n",
       "      <td>8.130000</td>\n",
       "      <td>...</td>\n",
       "      <td>9.772722e+07</td>\n",
       "      <td>1.000000e+08</td>\n",
       "      <td>0.000000e+00</td>\n",
       "      <td>52.62</td>\n",
       "      <td>-84.46131</td>\n",
       "      <td>2024-03-14T15:06:22.124Z</td>\n",
       "      <td>0.657401</td>\n",
       "      <td>1.143771e+03</td>\n",
       "      <td>2020-11-03T16:19:30.576Z</td>\n",
       "      <td>2025-04-03 12:07:00.171</td>\n",
       "    </tr>\n",
       "    <tr>\n",
       "      <th>96</th>\n",
       "      <td>sei-network</td>\n",
       "      <td>sei</td>\n",
       "      <td>Sei</td>\n",
       "      <td>0.161352</td>\n",
       "      <td>789595741</td>\n",
       "      <td>97</td>\n",
       "      <td>1617241583</td>\n",
       "      <td>1.325664e+08</td>\n",
       "      <td>0.177153</td>\n",
       "      <td>0.160791</td>\n",
       "      <td>...</td>\n",
       "      <td>4.882361e+09</td>\n",
       "      <td>1.000000e+10</td>\n",
       "      <td>0.000000e+00</td>\n",
       "      <td>1.14</td>\n",
       "      <td>-85.82765</td>\n",
       "      <td>2024-03-16T02:30:23.904Z</td>\n",
       "      <td>0.095364</td>\n",
       "      <td>6.937753e+01</td>\n",
       "      <td>2023-10-19T08:05:30.655Z</td>\n",
       "      <td>2025-04-03 12:07:02.122</td>\n",
       "    </tr>\n",
       "    <tr>\n",
       "      <th>97</th>\n",
       "      <td>the-graph</td>\n",
       "      <td>grt</td>\n",
       "      <td>The Graph</td>\n",
       "      <td>0.080912</td>\n",
       "      <td>774668628</td>\n",
       "      <td>98</td>\n",
       "      <td>875226573</td>\n",
       "      <td>5.390254e+07</td>\n",
       "      <td>0.089755</td>\n",
       "      <td>0.080758</td>\n",
       "      <td>...</td>\n",
       "      <td>9.548532e+09</td>\n",
       "      <td>1.078800e+10</td>\n",
       "      <td>1.078800e+10</td>\n",
       "      <td>2.84</td>\n",
       "      <td>-97.14360</td>\n",
       "      <td>2021-02-12T07:28:45.775Z</td>\n",
       "      <td>0.052051</td>\n",
       "      <td>5.593284e+01</td>\n",
       "      <td>2022-11-22T10:05:03.503Z</td>\n",
       "      <td>2025-04-03 12:06:57.016</td>\n",
       "    </tr>\n",
       "    <tr>\n",
       "      <th>98</th>\n",
       "      <td>theta-token</td>\n",
       "      <td>theta</td>\n",
       "      <td>Theta Network</td>\n",
       "      <td>0.769255</td>\n",
       "      <td>769864199</td>\n",
       "      <td>99</td>\n",
       "      <td>769864199</td>\n",
       "      <td>3.255087e+07</td>\n",
       "      <td>0.849618</td>\n",
       "      <td>0.766302</td>\n",
       "      <td>...</td>\n",
       "      <td>1.000000e+09</td>\n",
       "      <td>1.000000e+09</td>\n",
       "      <td>1.000000e+09</td>\n",
       "      <td>15.72</td>\n",
       "      <td>-95.09965</td>\n",
       "      <td>2021-04-16T13:15:11.190Z</td>\n",
       "      <td>0.040400</td>\n",
       "      <td>1.806745e+03</td>\n",
       "      <td>2020-03-13T02:24:16.483Z</td>\n",
       "      <td>2025-04-03 12:06:56.403</td>\n",
       "    </tr>\n",
       "    <tr>\n",
       "      <th>99</th>\n",
       "      <td>tether-gold</td>\n",
       "      <td>xaut</td>\n",
       "      <td>Tether Gold</td>\n",
       "      <td>3119.760000</td>\n",
       "      <td>769559947</td>\n",
       "      <td>100</td>\n",
       "      <td>769559947</td>\n",
       "      <td>4.736254e+07</td>\n",
       "      <td>3179.010000</td>\n",
       "      <td>3120.250000</td>\n",
       "      <td>...</td>\n",
       "      <td>2.465243e+05</td>\n",
       "      <td>2.465243e+05</td>\n",
       "      <td>0.000000e+00</td>\n",
       "      <td>3190.62</td>\n",
       "      <td>-2.19749</td>\n",
       "      <td>2025-04-01T00:42:40.216Z</td>\n",
       "      <td>1447.840000</td>\n",
       "      <td>1.155282e+02</td>\n",
       "      <td>2020-03-19T13:45:41.821Z</td>\n",
       "      <td>2025-04-03 12:06:56.423</td>\n",
       "    </tr>\n",
       "  </tbody>\n",
       "</table>\n",
       "<p>100 rows × 24 columns</p>\n",
       "</div>"
      ],
      "text/plain": [
       "                    id symbol           name  current_price     market_cap  \\\n",
       "0              bitcoin    btc        Bitcoin   82870.000000  1648762403249   \n",
       "1             ethereum    eth       Ethereum    1791.020000   216571537533   \n",
       "2               tether   usdt         Tether       0.999769   144001534362   \n",
       "3               ripple    xrp            XRP       2.030000   118284939947   \n",
       "4          binancecoin    bnb            BNB     592.010000    86546598204   \n",
       "..                 ...    ...            ...            ...            ...   \n",
       "95  injective-protocol    inj      Injective       8.150000      798598732   \n",
       "96         sei-network    sei            Sei       0.161352      789595741   \n",
       "97           the-graph    grt      The Graph       0.080912      774668628   \n",
       "98         theta-token  theta  Theta Network       0.769255      769864199   \n",
       "99         tether-gold   xaut    Tether Gold    3119.760000      769559947   \n",
       "\n",
       "    market_cap_rank  fully_diluted_valuation  total_volume      high_24h  \\\n",
       "0                 1            1648762403249  5.673585e+10  87791.000000   \n",
       "1                 2             216571537533  2.531752e+10   1934.100000   \n",
       "2                 3             144001534362  8.331170e+10      1.000000   \n",
       "3                 4             203191002077  6.299024e+09      2.190000   \n",
       "4                 5              86546598204  1.864669e+09    611.360000   \n",
       "..              ...                      ...           ...           ...   \n",
       "95               96                817171233  9.010431e+07      9.050000   \n",
       "96               97               1617241583  1.325664e+08      0.177153   \n",
       "97               98                875226573  5.390254e+07      0.089755   \n",
       "98               99                769864199  3.255087e+07      0.849618   \n",
       "99              100                769559947  4.736254e+07   3179.010000   \n",
       "\n",
       "         low_24h  ...  circulating_supply  total_supply    max_supply  \\\n",
       "0   82277.000000  ...        1.984587e+07  1.984587e+07  2.100000e+07   \n",
       "1    1787.860000  ...        1.206644e+08  1.206645e+08  0.000000e+00   \n",
       "2       0.999644  ...        1.440343e+11  1.440343e+11  0.000000e+00   \n",
       "3       2.000000  ...        5.820570e+10  9.998630e+10  1.000000e+11   \n",
       "4     584.990000  ...        1.458876e+08  1.458876e+08  2.000000e+08   \n",
       "..           ...  ...                 ...           ...           ...   \n",
       "95      8.130000  ...        9.772722e+07  1.000000e+08  0.000000e+00   \n",
       "96      0.160791  ...        4.882361e+09  1.000000e+10  0.000000e+00   \n",
       "97      0.080758  ...        9.548532e+09  1.078800e+10  1.078800e+10   \n",
       "98      0.766302  ...        1.000000e+09  1.000000e+09  1.000000e+09   \n",
       "99   3120.250000  ...        2.465243e+05  2.465243e+05  0.000000e+00   \n",
       "\n",
       "          ath  ath_change_percentage                  ath_date          atl  \\\n",
       "0   108786.00              -23.66032  2025-01-20T09:11:54.494Z    67.810000   \n",
       "1     4878.26              -63.21902  2021-11-10T14:24:19.604Z     0.432979   \n",
       "2        1.32              -24.43664  2018-07-24T00:00:00.000Z     0.572521   \n",
       "3        3.40              -40.24346  2018-01-07T00:00:00.000Z     0.002686   \n",
       "4      788.84              -24.81959  2024-12-04T10:35:25.220Z     0.039818   \n",
       "..        ...                    ...                       ...          ...   \n",
       "95      52.62              -84.46131  2024-03-14T15:06:22.124Z     0.657401   \n",
       "96       1.14              -85.82765  2024-03-16T02:30:23.904Z     0.095364   \n",
       "97       2.84              -97.14360  2021-02-12T07:28:45.775Z     0.052051   \n",
       "98      15.72              -95.09965  2021-04-16T13:15:11.190Z     0.040400   \n",
       "99    3190.62               -2.19749  2025-04-01T00:42:40.216Z  1447.840000   \n",
       "\n",
       "    atl_change_percentage                  atl_date            last_updated  \n",
       "0            1.223712e+05  2013-07-06T00:00:00.000Z 2025-04-03 12:07:04.671  \n",
       "1            4.143018e+05  2015-10-20T00:00:00.000Z 2025-04-03 12:06:57.337  \n",
       "2            7.462682e+01  2015-03-02T00:00:00.000Z 2025-04-03 12:06:58.056  \n",
       "3            7.550089e+04  2014-05-22T00:00:00.000Z 2025-04-03 12:06:53.977  \n",
       "4            1.489328e+06  2017-10-19T00:00:00.000Z 2025-04-03 12:07:04.510  \n",
       "..                    ...                       ...                     ...  \n",
       "95           1.143771e+03  2020-11-03T16:19:30.576Z 2025-04-03 12:07:00.171  \n",
       "96           6.937753e+01  2023-10-19T08:05:30.655Z 2025-04-03 12:07:02.122  \n",
       "97           5.593284e+01  2022-11-22T10:05:03.503Z 2025-04-03 12:06:57.016  \n",
       "98           1.806745e+03  2020-03-13T02:24:16.483Z 2025-04-03 12:06:56.403  \n",
       "99           1.155282e+02  2020-03-19T13:45:41.821Z 2025-04-03 12:06:56.423  \n",
       "\n",
       "[100 rows x 24 columns]"
      ]
     },
     "execution_count": 3,
     "metadata": {},
     "output_type": "execute_result"
    }
   ],
   "source": [
    "df"
   ]
  },
  {
   "cell_type": "code",
   "execution_count": 4,
   "metadata": {},
   "outputs": [],
   "source": [
    "# convert to dask dataframe\n",
    "ddf = dd.from_pandas(df, npartitions=4)"
   ]
  },
  {
   "cell_type": "code",
   "execution_count": 5,
   "metadata": {},
   "outputs": [],
   "source": [
    "# Select Features & Target\n",
    "features = [\"market_cap\", \"total_volume\", \"circulating_supply\"]\n",
    "target = \"price_change_percentage_24h\"\n"
   ]
  },
  {
   "cell_type": "code",
   "execution_count": 6,
   "metadata": {},
   "outputs": [
    {
     "name": "stderr",
     "output_type": "stream",
     "text": [
      "c:\\Users\\DHANYATHA\\AppData\\Local\\Programs\\Python\\Python312\\Lib\\site-packages\\dask_ml\\model_selection\\_split.py:464: FutureWarning: The default value for 'shuffle' must be specified when splitting DataFrames. In the future DataFrames will automatically be shuffled within blocks prior to splitting. Specify 'shuffle=True' to adopt the future behavior now, or 'shuffle=False' to retain the previous behavior.\n",
      "  warnings.warn(\n"
     ]
    }
   ],
   "source": [
    "\n",
    "# split data \n",
    "X_train, X_test, y_train, y_test = train_test_split(ddf[features],ddf[target], test_size = 0.2,random_state=42)\n",
    "\n",
    "# Convert to Pandas for Training\n",
    "X_train, X_test, y_train, y_test = X_train.compute(), X_test.compute(), y_train.compute(), y_test.compute()"
   ]
  },
  {
   "cell_type": "code",
   "execution_count": 7,
   "metadata": {},
   "outputs": [
    {
     "data": {
      "text/html": [
       "<style>#sk-container-id-1 {\n",
       "  /* Definition of color scheme common for light and dark mode */\n",
       "  --sklearn-color-text: #000;\n",
       "  --sklearn-color-text-muted: #666;\n",
       "  --sklearn-color-line: gray;\n",
       "  /* Definition of color scheme for unfitted estimators */\n",
       "  --sklearn-color-unfitted-level-0: #fff5e6;\n",
       "  --sklearn-color-unfitted-level-1: #f6e4d2;\n",
       "  --sklearn-color-unfitted-level-2: #ffe0b3;\n",
       "  --sklearn-color-unfitted-level-3: chocolate;\n",
       "  /* Definition of color scheme for fitted estimators */\n",
       "  --sklearn-color-fitted-level-0: #f0f8ff;\n",
       "  --sklearn-color-fitted-level-1: #d4ebff;\n",
       "  --sklearn-color-fitted-level-2: #b3dbfd;\n",
       "  --sklearn-color-fitted-level-3: cornflowerblue;\n",
       "\n",
       "  /* Specific color for light theme */\n",
       "  --sklearn-color-text-on-default-background: var(--sg-text-color, var(--theme-code-foreground, var(--jp-content-font-color1, black)));\n",
       "  --sklearn-color-background: var(--sg-background-color, var(--theme-background, var(--jp-layout-color0, white)));\n",
       "  --sklearn-color-border-box: var(--sg-text-color, var(--theme-code-foreground, var(--jp-content-font-color1, black)));\n",
       "  --sklearn-color-icon: #696969;\n",
       "\n",
       "  @media (prefers-color-scheme: dark) {\n",
       "    /* Redefinition of color scheme for dark theme */\n",
       "    --sklearn-color-text-on-default-background: var(--sg-text-color, var(--theme-code-foreground, var(--jp-content-font-color1, white)));\n",
       "    --sklearn-color-background: var(--sg-background-color, var(--theme-background, var(--jp-layout-color0, #111)));\n",
       "    --sklearn-color-border-box: var(--sg-text-color, var(--theme-code-foreground, var(--jp-content-font-color1, white)));\n",
       "    --sklearn-color-icon: #878787;\n",
       "  }\n",
       "}\n",
       "\n",
       "#sk-container-id-1 {\n",
       "  color: var(--sklearn-color-text);\n",
       "}\n",
       "\n",
       "#sk-container-id-1 pre {\n",
       "  padding: 0;\n",
       "}\n",
       "\n",
       "#sk-container-id-1 input.sk-hidden--visually {\n",
       "  border: 0;\n",
       "  clip: rect(1px 1px 1px 1px);\n",
       "  clip: rect(1px, 1px, 1px, 1px);\n",
       "  height: 1px;\n",
       "  margin: -1px;\n",
       "  overflow: hidden;\n",
       "  padding: 0;\n",
       "  position: absolute;\n",
       "  width: 1px;\n",
       "}\n",
       "\n",
       "#sk-container-id-1 div.sk-dashed-wrapped {\n",
       "  border: 1px dashed var(--sklearn-color-line);\n",
       "  margin: 0 0.4em 0.5em 0.4em;\n",
       "  box-sizing: border-box;\n",
       "  padding-bottom: 0.4em;\n",
       "  background-color: var(--sklearn-color-background);\n",
       "}\n",
       "\n",
       "#sk-container-id-1 div.sk-container {\n",
       "  /* jupyter's `normalize.less` sets `[hidden] { display: none; }`\n",
       "     but bootstrap.min.css set `[hidden] { display: none !important; }`\n",
       "     so we also need the `!important` here to be able to override the\n",
       "     default hidden behavior on the sphinx rendered scikit-learn.org.\n",
       "     See: https://github.com/scikit-learn/scikit-learn/issues/21755 */\n",
       "  display: inline-block !important;\n",
       "  position: relative;\n",
       "}\n",
       "\n",
       "#sk-container-id-1 div.sk-text-repr-fallback {\n",
       "  display: none;\n",
       "}\n",
       "\n",
       "div.sk-parallel-item,\n",
       "div.sk-serial,\n",
       "div.sk-item {\n",
       "  /* draw centered vertical line to link estimators */\n",
       "  background-image: linear-gradient(var(--sklearn-color-text-on-default-background), var(--sklearn-color-text-on-default-background));\n",
       "  background-size: 2px 100%;\n",
       "  background-repeat: no-repeat;\n",
       "  background-position: center center;\n",
       "}\n",
       "\n",
       "/* Parallel-specific style estimator block */\n",
       "\n",
       "#sk-container-id-1 div.sk-parallel-item::after {\n",
       "  content: \"\";\n",
       "  width: 100%;\n",
       "  border-bottom: 2px solid var(--sklearn-color-text-on-default-background);\n",
       "  flex-grow: 1;\n",
       "}\n",
       "\n",
       "#sk-container-id-1 div.sk-parallel {\n",
       "  display: flex;\n",
       "  align-items: stretch;\n",
       "  justify-content: center;\n",
       "  background-color: var(--sklearn-color-background);\n",
       "  position: relative;\n",
       "}\n",
       "\n",
       "#sk-container-id-1 div.sk-parallel-item {\n",
       "  display: flex;\n",
       "  flex-direction: column;\n",
       "}\n",
       "\n",
       "#sk-container-id-1 div.sk-parallel-item:first-child::after {\n",
       "  align-self: flex-end;\n",
       "  width: 50%;\n",
       "}\n",
       "\n",
       "#sk-container-id-1 div.sk-parallel-item:last-child::after {\n",
       "  align-self: flex-start;\n",
       "  width: 50%;\n",
       "}\n",
       "\n",
       "#sk-container-id-1 div.sk-parallel-item:only-child::after {\n",
       "  width: 0;\n",
       "}\n",
       "\n",
       "/* Serial-specific style estimator block */\n",
       "\n",
       "#sk-container-id-1 div.sk-serial {\n",
       "  display: flex;\n",
       "  flex-direction: column;\n",
       "  align-items: center;\n",
       "  background-color: var(--sklearn-color-background);\n",
       "  padding-right: 1em;\n",
       "  padding-left: 1em;\n",
       "}\n",
       "\n",
       "\n",
       "/* Toggleable style: style used for estimator/Pipeline/ColumnTransformer box that is\n",
       "clickable and can be expanded/collapsed.\n",
       "- Pipeline and ColumnTransformer use this feature and define the default style\n",
       "- Estimators will overwrite some part of the style using the `sk-estimator` class\n",
       "*/\n",
       "\n",
       "/* Pipeline and ColumnTransformer style (default) */\n",
       "\n",
       "#sk-container-id-1 div.sk-toggleable {\n",
       "  /* Default theme specific background. It is overwritten whether we have a\n",
       "  specific estimator or a Pipeline/ColumnTransformer */\n",
       "  background-color: var(--sklearn-color-background);\n",
       "}\n",
       "\n",
       "/* Toggleable label */\n",
       "#sk-container-id-1 label.sk-toggleable__label {\n",
       "  cursor: pointer;\n",
       "  display: flex;\n",
       "  width: 100%;\n",
       "  margin-bottom: 0;\n",
       "  padding: 0.5em;\n",
       "  box-sizing: border-box;\n",
       "  text-align: center;\n",
       "  align-items: start;\n",
       "  justify-content: space-between;\n",
       "  gap: 0.5em;\n",
       "}\n",
       "\n",
       "#sk-container-id-1 label.sk-toggleable__label .caption {\n",
       "  font-size: 0.6rem;\n",
       "  font-weight: lighter;\n",
       "  color: var(--sklearn-color-text-muted);\n",
       "}\n",
       "\n",
       "#sk-container-id-1 label.sk-toggleable__label-arrow:before {\n",
       "  /* Arrow on the left of the label */\n",
       "  content: \"▸\";\n",
       "  float: left;\n",
       "  margin-right: 0.25em;\n",
       "  color: var(--sklearn-color-icon);\n",
       "}\n",
       "\n",
       "#sk-container-id-1 label.sk-toggleable__label-arrow:hover:before {\n",
       "  color: var(--sklearn-color-text);\n",
       "}\n",
       "\n",
       "/* Toggleable content - dropdown */\n",
       "\n",
       "#sk-container-id-1 div.sk-toggleable__content {\n",
       "  max-height: 0;\n",
       "  max-width: 0;\n",
       "  overflow: hidden;\n",
       "  text-align: left;\n",
       "  /* unfitted */\n",
       "  background-color: var(--sklearn-color-unfitted-level-0);\n",
       "}\n",
       "\n",
       "#sk-container-id-1 div.sk-toggleable__content.fitted {\n",
       "  /* fitted */\n",
       "  background-color: var(--sklearn-color-fitted-level-0);\n",
       "}\n",
       "\n",
       "#sk-container-id-1 div.sk-toggleable__content pre {\n",
       "  margin: 0.2em;\n",
       "  border-radius: 0.25em;\n",
       "  color: var(--sklearn-color-text);\n",
       "  /* unfitted */\n",
       "  background-color: var(--sklearn-color-unfitted-level-0);\n",
       "}\n",
       "\n",
       "#sk-container-id-1 div.sk-toggleable__content.fitted pre {\n",
       "  /* unfitted */\n",
       "  background-color: var(--sklearn-color-fitted-level-0);\n",
       "}\n",
       "\n",
       "#sk-container-id-1 input.sk-toggleable__control:checked~div.sk-toggleable__content {\n",
       "  /* Expand drop-down */\n",
       "  max-height: 200px;\n",
       "  max-width: 100%;\n",
       "  overflow: auto;\n",
       "}\n",
       "\n",
       "#sk-container-id-1 input.sk-toggleable__control:checked~label.sk-toggleable__label-arrow:before {\n",
       "  content: \"▾\";\n",
       "}\n",
       "\n",
       "/* Pipeline/ColumnTransformer-specific style */\n",
       "\n",
       "#sk-container-id-1 div.sk-label input.sk-toggleable__control:checked~label.sk-toggleable__label {\n",
       "  color: var(--sklearn-color-text);\n",
       "  background-color: var(--sklearn-color-unfitted-level-2);\n",
       "}\n",
       "\n",
       "#sk-container-id-1 div.sk-label.fitted input.sk-toggleable__control:checked~label.sk-toggleable__label {\n",
       "  background-color: var(--sklearn-color-fitted-level-2);\n",
       "}\n",
       "\n",
       "/* Estimator-specific style */\n",
       "\n",
       "/* Colorize estimator box */\n",
       "#sk-container-id-1 div.sk-estimator input.sk-toggleable__control:checked~label.sk-toggleable__label {\n",
       "  /* unfitted */\n",
       "  background-color: var(--sklearn-color-unfitted-level-2);\n",
       "}\n",
       "\n",
       "#sk-container-id-1 div.sk-estimator.fitted input.sk-toggleable__control:checked~label.sk-toggleable__label {\n",
       "  /* fitted */\n",
       "  background-color: var(--sklearn-color-fitted-level-2);\n",
       "}\n",
       "\n",
       "#sk-container-id-1 div.sk-label label.sk-toggleable__label,\n",
       "#sk-container-id-1 div.sk-label label {\n",
       "  /* The background is the default theme color */\n",
       "  color: var(--sklearn-color-text-on-default-background);\n",
       "}\n",
       "\n",
       "/* On hover, darken the color of the background */\n",
       "#sk-container-id-1 div.sk-label:hover label.sk-toggleable__label {\n",
       "  color: var(--sklearn-color-text);\n",
       "  background-color: var(--sklearn-color-unfitted-level-2);\n",
       "}\n",
       "\n",
       "/* Label box, darken color on hover, fitted */\n",
       "#sk-container-id-1 div.sk-label.fitted:hover label.sk-toggleable__label.fitted {\n",
       "  color: var(--sklearn-color-text);\n",
       "  background-color: var(--sklearn-color-fitted-level-2);\n",
       "}\n",
       "\n",
       "/* Estimator label */\n",
       "\n",
       "#sk-container-id-1 div.sk-label label {\n",
       "  font-family: monospace;\n",
       "  font-weight: bold;\n",
       "  display: inline-block;\n",
       "  line-height: 1.2em;\n",
       "}\n",
       "\n",
       "#sk-container-id-1 div.sk-label-container {\n",
       "  text-align: center;\n",
       "}\n",
       "\n",
       "/* Estimator-specific */\n",
       "#sk-container-id-1 div.sk-estimator {\n",
       "  font-family: monospace;\n",
       "  border: 1px dotted var(--sklearn-color-border-box);\n",
       "  border-radius: 0.25em;\n",
       "  box-sizing: border-box;\n",
       "  margin-bottom: 0.5em;\n",
       "  /* unfitted */\n",
       "  background-color: var(--sklearn-color-unfitted-level-0);\n",
       "}\n",
       "\n",
       "#sk-container-id-1 div.sk-estimator.fitted {\n",
       "  /* fitted */\n",
       "  background-color: var(--sklearn-color-fitted-level-0);\n",
       "}\n",
       "\n",
       "/* on hover */\n",
       "#sk-container-id-1 div.sk-estimator:hover {\n",
       "  /* unfitted */\n",
       "  background-color: var(--sklearn-color-unfitted-level-2);\n",
       "}\n",
       "\n",
       "#sk-container-id-1 div.sk-estimator.fitted:hover {\n",
       "  /* fitted */\n",
       "  background-color: var(--sklearn-color-fitted-level-2);\n",
       "}\n",
       "\n",
       "/* Specification for estimator info (e.g. \"i\" and \"?\") */\n",
       "\n",
       "/* Common style for \"i\" and \"?\" */\n",
       "\n",
       ".sk-estimator-doc-link,\n",
       "a:link.sk-estimator-doc-link,\n",
       "a:visited.sk-estimator-doc-link {\n",
       "  float: right;\n",
       "  font-size: smaller;\n",
       "  line-height: 1em;\n",
       "  font-family: monospace;\n",
       "  background-color: var(--sklearn-color-background);\n",
       "  border-radius: 1em;\n",
       "  height: 1em;\n",
       "  width: 1em;\n",
       "  text-decoration: none !important;\n",
       "  margin-left: 0.5em;\n",
       "  text-align: center;\n",
       "  /* unfitted */\n",
       "  border: var(--sklearn-color-unfitted-level-1) 1pt solid;\n",
       "  color: var(--sklearn-color-unfitted-level-1);\n",
       "}\n",
       "\n",
       ".sk-estimator-doc-link.fitted,\n",
       "a:link.sk-estimator-doc-link.fitted,\n",
       "a:visited.sk-estimator-doc-link.fitted {\n",
       "  /* fitted */\n",
       "  border: var(--sklearn-color-fitted-level-1) 1pt solid;\n",
       "  color: var(--sklearn-color-fitted-level-1);\n",
       "}\n",
       "\n",
       "/* On hover */\n",
       "div.sk-estimator:hover .sk-estimator-doc-link:hover,\n",
       ".sk-estimator-doc-link:hover,\n",
       "div.sk-label-container:hover .sk-estimator-doc-link:hover,\n",
       ".sk-estimator-doc-link:hover {\n",
       "  /* unfitted */\n",
       "  background-color: var(--sklearn-color-unfitted-level-3);\n",
       "  color: var(--sklearn-color-background);\n",
       "  text-decoration: none;\n",
       "}\n",
       "\n",
       "div.sk-estimator.fitted:hover .sk-estimator-doc-link.fitted:hover,\n",
       ".sk-estimator-doc-link.fitted:hover,\n",
       "div.sk-label-container:hover .sk-estimator-doc-link.fitted:hover,\n",
       ".sk-estimator-doc-link.fitted:hover {\n",
       "  /* fitted */\n",
       "  background-color: var(--sklearn-color-fitted-level-3);\n",
       "  color: var(--sklearn-color-background);\n",
       "  text-decoration: none;\n",
       "}\n",
       "\n",
       "/* Span, style for the box shown on hovering the info icon */\n",
       ".sk-estimator-doc-link span {\n",
       "  display: none;\n",
       "  z-index: 9999;\n",
       "  position: relative;\n",
       "  font-weight: normal;\n",
       "  right: .2ex;\n",
       "  padding: .5ex;\n",
       "  margin: .5ex;\n",
       "  width: min-content;\n",
       "  min-width: 20ex;\n",
       "  max-width: 50ex;\n",
       "  color: var(--sklearn-color-text);\n",
       "  box-shadow: 2pt 2pt 4pt #999;\n",
       "  /* unfitted */\n",
       "  background: var(--sklearn-color-unfitted-level-0);\n",
       "  border: .5pt solid var(--sklearn-color-unfitted-level-3);\n",
       "}\n",
       "\n",
       ".sk-estimator-doc-link.fitted span {\n",
       "  /* fitted */\n",
       "  background: var(--sklearn-color-fitted-level-0);\n",
       "  border: var(--sklearn-color-fitted-level-3);\n",
       "}\n",
       "\n",
       ".sk-estimator-doc-link:hover span {\n",
       "  display: block;\n",
       "}\n",
       "\n",
       "/* \"?\"-specific style due to the `<a>` HTML tag */\n",
       "\n",
       "#sk-container-id-1 a.estimator_doc_link {\n",
       "  float: right;\n",
       "  font-size: 1rem;\n",
       "  line-height: 1em;\n",
       "  font-family: monospace;\n",
       "  background-color: var(--sklearn-color-background);\n",
       "  border-radius: 1rem;\n",
       "  height: 1rem;\n",
       "  width: 1rem;\n",
       "  text-decoration: none;\n",
       "  /* unfitted */\n",
       "  color: var(--sklearn-color-unfitted-level-1);\n",
       "  border: var(--sklearn-color-unfitted-level-1) 1pt solid;\n",
       "}\n",
       "\n",
       "#sk-container-id-1 a.estimator_doc_link.fitted {\n",
       "  /* fitted */\n",
       "  border: var(--sklearn-color-fitted-level-1) 1pt solid;\n",
       "  color: var(--sklearn-color-fitted-level-1);\n",
       "}\n",
       "\n",
       "/* On hover */\n",
       "#sk-container-id-1 a.estimator_doc_link:hover {\n",
       "  /* unfitted */\n",
       "  background-color: var(--sklearn-color-unfitted-level-3);\n",
       "  color: var(--sklearn-color-background);\n",
       "  text-decoration: none;\n",
       "}\n",
       "\n",
       "#sk-container-id-1 a.estimator_doc_link.fitted:hover {\n",
       "  /* fitted */\n",
       "  background-color: var(--sklearn-color-fitted-level-3);\n",
       "}\n",
       "</style><div id=\"sk-container-id-1\" class=\"sk-top-container\"><div class=\"sk-text-repr-fallback\"><pre>LinearRegression()</pre><b>In a Jupyter environment, please rerun this cell to show the HTML representation or trust the notebook. <br />On GitHub, the HTML representation is unable to render, please try loading this page with nbviewer.org.</b></div><div class=\"sk-container\" hidden><div class=\"sk-item\"><div class=\"sk-estimator fitted sk-toggleable\"><input class=\"sk-toggleable__control sk-hidden--visually\" id=\"sk-estimator-id-1\" type=\"checkbox\" checked><label for=\"sk-estimator-id-1\" class=\"sk-toggleable__label fitted sk-toggleable__label-arrow\"><div><div>LinearRegression</div></div><div><a class=\"sk-estimator-doc-link fitted\" rel=\"noreferrer\" target=\"_blank\" href=\"https://scikit-learn.org/1.6/modules/generated/sklearn.linear_model.LinearRegression.html\">?<span>Documentation for LinearRegression</span></a><span class=\"sk-estimator-doc-link fitted\">i<span>Fitted</span></span></div></label><div class=\"sk-toggleable__content fitted\"><pre>LinearRegression()</pre></div> </div></div></div></div>"
      ],
      "text/plain": [
       "LinearRegression()"
      ]
     },
     "execution_count": 7,
     "metadata": {},
     "output_type": "execute_result"
    }
   ],
   "source": [
    "# Train Model\n",
    "model = LinearRegression()\n",
    "model.fit(X_train, y_train)"
   ]
  },
  {
   "cell_type": "code",
   "execution_count": 8,
   "metadata": {},
   "outputs": [],
   "source": [
    "# Prediction\n",
    "predictions = model.predict(X_test)"
   ]
  },
  {
   "cell_type": "code",
   "execution_count": 9,
   "metadata": {},
   "outputs": [
    {
     "name": "stdout",
     "output_type": "stream",
     "text": [
      "Model trained! MAE: 3.1374\n"
     ]
    }
   ],
   "source": [
    "# Evaluate the Model\n",
    "err = mean_absolute_error(y_test, predictions)\n",
    "print(f\"Model trained! MAE: {err:.4f}\")"
   ]
  },
  {
   "cell_type": "code",
   "execution_count": 10,
   "metadata": {},
   "outputs": [
    {
     "name": "stdout",
     "output_type": "stream",
     "text": [
      "RMSE: 3.609390750524681\n"
     ]
    }
   ],
   "source": [
    "import numpy as np\n",
    "from sklearn.metrics import mean_squared_error\n",
    "\n",
    "y_true = y_test  \n",
    "y_pred = predictions \n",
    "rmse = np.sqrt(mean_squared_error(y_true, y_pred))\n",
    "print(f\"RMSE: {rmse}\")"
   ]
  },
  {
   "cell_type": "code",
   "execution_count": 11,
   "metadata": {},
   "outputs": [],
   "source": [
    "# Since our data is small and EMA is too high for that we need to normalize the data to a standard \n",
    "# that it get high accuracy predicting the model\n",
    "#  Mean of 0 and a Standard Deviation of 1\n",
    "from sklearn.preprocessing import StandardScaler\n",
    "\n",
    "scaler = StandardScaler()\n",
    "X_train_scaled = scaler.fit_transform(X_train)\n",
    "X_test_scaled = scaler.transform(X_test)"
   ]
  },
  {
   "cell_type": "code",
   "execution_count": 12,
   "metadata": {},
   "outputs": [
    {
     "name": "stdout",
     "output_type": "stream",
     "text": [
      "Target Min: -13.07531, Target Max: -0.00193\n",
      "Mean Target Value: -4.397769000000001\n"
     ]
    }
   ],
   "source": [
    "print(f\"Target Min: {y_test.min()}, Target Max: {y_test.max()}\")\n",
    "print(f\"Mean Target Value: {y_test.mean()}\")"
   ]
  },
  {
   "cell_type": "markdown",
   "metadata": {},
   "source": [
    "### Still Even though Scalarized the model we are seeing MAE (3.1374) and RMSE (3.6094) are quite high "
   ]
  },
  {
   "cell_type": "code",
   "execution_count": 13,
   "metadata": {},
   "outputs": [
    {
     "data": {
      "image/png": "[encoded data removed]",
      "text/plain": [
       "<Figure size 640x480 with 1 Axes>"
      ]
     },
     "metadata": {},
     "output_type": "display_data"
    }
   ],
   "source": [
    "import seaborn as sns\n",
    "import matplotlib.pyplot as plt\n",
    "\n",
    "sns.boxplot(y=y_train)\n",
    "plt.show()"
   ]
  },
  {
   "cell_type": "code",
   "execution_count": 14,
   "metadata": {},
   "outputs": [],
   "source": [
    "# Remove the outliers\n",
    "Q1 = y_train.quantile(0.25)\n",
    "Q3 = y_train.quantile(0.75)\n",
    "IQR = Q3 - Q1\n",
    "y_train_filtered = y_train[~((y_train < (Q1 - 1.5 * IQR)) | (y_train > (Q3 + 1.5 * IQR)))]\n"
   ]
  },
  {
   "cell_type": "markdown",
   "metadata": {},
   "source": [
    "## Lets Use Random ForestRegression "
   ]
  },
  {
   "cell_type": "code",
   "execution_count": 15,
   "metadata": {},
   "outputs": [
    {
     "name": "stdout",
     "output_type": "stream",
     "text": [
      "🌲 Random Forest MAE: 2.6246\n"
     ]
    }
   ],
   "source": [
    "from sklearn.ensemble import RandomForestRegressor\n",
    "\n",
    "rf_model = RandomForestRegressor(n_estimators=100, random_state=42)\n",
    "rf_model.fit(X_train, y_train)\n",
    "\n",
    "rf_predictions = rf_model.predict(X_test)\n",
    "rf_error = mean_absolute_error(y_test, rf_predictions)\n",
    "\n",
    "print(f\"🌲 Random Forest MAE: {rf_error:.4f}\")"
   ]
  },
  {
   "cell_type": "markdown",
   "metadata": {},
   "source": []
  },
  {
   "cell_type": "code",
   "execution_count": 16,
   "metadata": {},
   "outputs": [
    {
     "name": "stdout",
     "output_type": "stream",
     "text": [
      "⚡ XGBoost MAE: 2.9067\n"
     ]
    }
   ],
   "source": [
    "from xgboost import XGBRegressor\n",
    "\n",
    "xgb_model = XGBRegressor(n_estimators=100, learning_rate=0.1, random_state=42)\n",
    "xgb_model.fit(X_train, y_train)\n",
    "\n",
    "xgb_predictions = xgb_model.predict(X_test)\n",
    "xgb_error = mean_absolute_error(y_test, xgb_predictions)\n",
    "\n",
    "print(f\"⚡ XGBoost MAE: {xgb_error:.4f}\")"
   ]
  },
  {
   "cell_type": "markdown",
   "metadata": {},
   "source": [
    "##### Hyperparameter Tuning for Random Forest Use Grid Search to find the best settings:"
   ]
  },
  {
   "cell_type": "code",
   "execution_count": 17,
   "metadata": {},
   "outputs": [
    {
     "name": "stdout",
     "output_type": "stream",
     "text": [
      "🔥 Best Random Forest MAE: 2.7595\n"
     ]
    }
   ],
   "source": [
    "from sklearn.model_selection import GridSearchCV\n",
    "\n",
    "param_grid = {\n",
    "    'n_estimators': [100, 200, 300], \n",
    "    'max_depth': [5, 10, 20],  \n",
    "    'min_samples_split': [2, 5, 10]\n",
    "}\n",
    "\n",
    "grid_search = GridSearchCV(RandomForestRegressor(random_state=42), param_grid, cv=5, scoring='neg_mean_absolute_error')\n",
    "grid_search.fit(X_train,y_train)\n",
    "\n",
    "best_rf = grid_search.best_estimator_\n",
    "best_prediction = best_rf.predict(X_test)\n",
    "\n",
    "best_mae = mean_absolute_error(y_test, best_prediction)\n",
    "print(f\"🔥 Best Random Forest MAE: {best_mae:.4f}\")"
   ]
  },
  {
   "cell_type": "code",
   "execution_count": 18,
   "metadata": {},
   "outputs": [],
   "source": [
    "X_test[\"predicted_price_change\"] = rf_predictions"
   ]
  },
  {
   "cell_type": "code",
   "execution_count": 19,
   "metadata": {},
   "outputs": [
    {
     "data": {
      "text/html": [
       "<div>\n",
       "<style scoped>\n",
       "    .dataframe tbody tr th:only-of-type {\n",
       "        vertical-align: middle;\n",
       "    }\n",
       "\n",
       "    .dataframe tbody tr th {\n",
       "        vertical-align: top;\n",
       "    }\n",
       "\n",
       "    .dataframe thead th {\n",
       "        text-align: right;\n",
       "    }\n",
       "</style>\n",
       "<table border=\"1\" class=\"dataframe\">\n",
       "  <thead>\n",
       "    <tr style=\"text-align: right;\">\n",
       "      <th></th>\n",
       "      <th>market_cap</th>\n",
       "      <th>total_volume</th>\n",
       "      <th>circulating_supply</th>\n",
       "      <th>predicted_price_change</th>\n",
       "    </tr>\n",
       "  </thead>\n",
       "  <tbody>\n",
       "    <tr>\n",
       "      <th>count</th>\n",
       "      <td>2.000000e+01</td>\n",
       "      <td>2.000000e+01</td>\n",
       "      <td>2.000000e+01</td>\n",
       "      <td>20.000000</td>\n",
       "    </tr>\n",
       "    <tr>\n",
       "      <th>mean</th>\n",
       "      <td>1.153928e+10</td>\n",
       "      <td>1.173625e+09</td>\n",
       "      <td>2.105037e+13</td>\n",
       "      <td>-3.152883</td>\n",
       "    </tr>\n",
       "    <tr>\n",
       "      <th>std</th>\n",
       "      <td>2.263141e+10</td>\n",
       "      <td>3.216248e+09</td>\n",
       "      <td>9.406541e+13</td>\n",
       "      <td>1.895638</td>\n",
       "    </tr>\n",
       "    <tr>\n",
       "      <th>min</th>\n",
       "      <td>7.746686e+08</td>\n",
       "      <td>3.439065e+06</td>\n",
       "      <td>1.473598e+04</td>\n",
       "      <td>-8.015756</td>\n",
       "    </tr>\n",
       "    <tr>\n",
       "      <th>25%</th>\n",
       "      <td>1.171054e+09</td>\n",
       "      <td>1.873730e+07</td>\n",
       "      <td>1.121819e+08</td>\n",
       "      <td>-4.240215</td>\n",
       "    </tr>\n",
       "    <tr>\n",
       "      <th>50%</th>\n",
       "      <td>2.714357e+09</td>\n",
       "      <td>6.157441e+07</td>\n",
       "      <td>2.124991e+09</td>\n",
       "      <td>-3.422703</td>\n",
       "    </tr>\n",
       "    <tr>\n",
       "      <th>75%</th>\n",
       "      <td>4.827764e+09</td>\n",
       "      <td>1.123902e+09</td>\n",
       "      <td>1.863184e+10</td>\n",
       "      <td>-1.973965</td>\n",
       "    </tr>\n",
       "    <tr>\n",
       "      <th>max</th>\n",
       "      <td>8.654660e+10</td>\n",
       "      <td>1.453249e+10</td>\n",
       "      <td>4.206900e+14</td>\n",
       "      <td>-0.026919</td>\n",
       "    </tr>\n",
       "  </tbody>\n",
       "</table>\n",
       "</div>"
      ],
      "text/plain": [
       "         market_cap  total_volume  circulating_supply  predicted_price_change\n",
       "count  2.000000e+01  2.000000e+01        2.000000e+01               20.000000\n",
       "mean   1.153928e+10  1.173625e+09        2.105037e+13               -3.152883\n",
       "std    2.263141e+10  3.216248e+09        9.406541e+13                1.895638\n",
       "min    7.746686e+08  3.439065e+06        1.473598e+04               -8.015756\n",
       "25%    1.171054e+09  1.873730e+07        1.121819e+08               -4.240215\n",
       "50%    2.714357e+09  6.157441e+07        2.124991e+09               -3.422703\n",
       "75%    4.827764e+09  1.123902e+09        1.863184e+10               -1.973965\n",
       "max    8.654660e+10  1.453249e+10        4.206900e+14               -0.026919"
      ]
     },
     "execution_count": 19,
     "metadata": {},
     "output_type": "execute_result"
    }
   ],
   "source": [
    "X_test.describe()"
   ]
  },
  {
   "cell_type": "code",
   "execution_count": 20,
   "metadata": {},
   "outputs": [
    {
     "name": "stdout",
     "output_type": "stream",
     "text": [
      "count    80.000000\n",
      "mean     -3.943474\n",
      "std       3.764290\n",
      "min     -17.463330\n",
      "25%      -6.037175\n",
      "50%      -3.956330\n",
      "75%      -0.664040\n",
      "max       5.109160\n",
      "Name: price_change_percentage_24h, dtype: float64\n",
      "count    20.000000\n",
      "mean     -4.397769\n",
      "std       3.667131\n",
      "min     -13.075310\n",
      "25%      -6.929600\n",
      "50%      -3.015250\n",
      "75%      -1.756573\n",
      "max      -0.001930\n",
      "Name: price_change_percentage_24h, dtype: float64\n"
     ]
    }
   ],
   "source": [
    "# Check your y_train and y_test values. If most actual values are negative, the model is just following the pattern.\n",
    "print(y_train.describe())\n",
    "print(y_test.describe())"
   ]
  },
  {
   "cell_type": "code",
   "execution_count": 21,
   "metadata": {},
   "outputs": [
    {
     "data": {
      "image/png": "[encoded data removed]",
      "text/plain": [
       "<Figure size 640x480 with 1 Axes>"
      ]
     },
     "metadata": {},
     "output_type": "display_data"
    }
   ],
   "source": [
    "import matplotlib.pyplot as plt\n",
    "\n",
    "plt.hist(y_train, bins=20, alpha=0.7, label=\"Train\")\n",
    "plt.hist(y_test, bins=20, alpha=0.7, label=\"Test\")\n",
    "plt.legend()\n",
    "plt.xlabel(\"Price Change (%)\")\n",
    "plt.ylabel(\"Frequency\")\n",
    "plt.title(\"Distribution of Price Changes\")\n",
    "plt.show()\n"
   ]
  },
  {
   "cell_type": "markdown",
   "metadata": {},
   "source": [
    "#### Since our dataset is highly skewed towards negative price changes, our model is predicts negative values. To ensure the model can predict both positive and negative price changes, we can use SMOTE (Synthetic Minority Over-sampling Technique)."
   ]
  },
  {
   "cell_type": "code",
   "execution_count": 22,
   "metadata": {},
   "outputs": [],
   "source": [
    "from imblearn.over_sampling import SMOTE\n",
    "\n",
    "# Create bins for price change percentage\n",
    "y_train_binned = pd.qcut(y_train, q=3, labels=False)  # Splitting into 3 quantiles\n",
    "\n",
    "# Apply SMOTE on the binned target\n",
    "smote = SMOTE(sampling_strategy='auto', random_state=42)\n",
    "X_train_resampled, y_train_resampled = smote.fit_resample(X_train, y_train_binned)\n",
    "\n",
    "# Convert y_train_resampled back to continuous values using the original y_train distribution\n",
    "y_train_resampled = y_train.sample(len(y_train_resampled), replace=True).reset_index(drop=True)\n"
   ]
  },
  {
   "cell_type": "code",
   "execution_count": 23,
   "metadata": {},
   "outputs": [
    {
     "data": {
      "text/plain": [
       "0      2.40390\n",
       "1     -5.11433\n",
       "2     -4.68795\n",
       "3     -0.12913\n",
       "4     -0.01538\n",
       "        ...   \n",
       "76    -3.97745\n",
       "77    -5.55830\n",
       "78   -17.46333\n",
       "79     2.40390\n",
       "80   -10.46963\n",
       "Name: price_change_percentage_24h, Length: 81, dtype: float64"
      ]
     },
     "execution_count": 23,
     "metadata": {},
     "output_type": "execute_result"
    }
   ],
   "source": [
    "y_train_resampled"
   ]
  },
  {
   "cell_type": "markdown",
   "metadata": {},
   "source": [
    "### Still the data is sweked with negetive value lets agument the data"
   ]
  },
  {
   "cell_type": "code",
   "execution_count": 24,
   "metadata": {},
   "outputs": [],
   "source": [
    "\n",
    "# Select only positive price changes\n",
    "positive_samples = X_train[y_train > 0]\n",
    "positive_labels = y_train[y_train > 0]\n",
    "\n",
    "# Generate synthetic samples by adding noise\n",
    "noise = np.random.normal(0, 0.1, positive_samples.shape)  # Add slight noise\n",
    "synthetic_X = positive_samples + noise\n",
    "synthetic_y = positive_labels + np.random.normal(0, 0.1, positive_labels.shape)\n",
    "\n",
    "# Combine with original data\n",
    "X_train_balanced = pd.concat([X_train, synthetic_X])\n",
    "y_train_balanced = pd.concat([y_train, synthetic_y])\n",
    "\n",
    "# Shuffle the dataset\n",
    "from sklearn.utils import shuffle\n",
    "X_train_balanced, y_train_balanced = shuffle(X_train_balanced, y_train_balanced, random_state=42)\n"
   ]
  },
  {
   "cell_type": "code",
   "execution_count": 25,
   "metadata": {},
   "outputs": [
    {
     "data": {
      "image/png": "[encoded data removed]",
      "text/plain": [
       "<Figure size 800x500 with 1 Axes>"
      ]
     },
     "metadata": {},
     "output_type": "display_data"
    }
   ],
   "source": [
    "\n",
    "\n",
    "import matplotlib.pyplot as plt  \n",
    "\n",
    "plt.figure(figsize=(8, 5))\n",
    "plt.hist(y_train, bins=20, alpha=0.5, label=\"Original\", color=\"blue\")\n",
    "plt.hist(y_train_resampled, bins=20, alpha=0.5, label=\"Augmented\", color=\"orange\")\n",
    "plt.xlabel(\"Price Change (%)\")\n",
    "plt.ylabel(\"Frequency\")\n",
    "plt.legend()\n",
    "plt.title(\"Distribution of Price Changes Before and After Augmentation\")\n",
    "plt.show()\n"
   ]
  },
  {
   "cell_type": "code",
   "execution_count": 26,
   "metadata": {},
   "outputs": [
    {
     "name": "stdout",
     "output_type": "stream",
     "text": [
      "🔥 New Random Forest MAE: 3.2591\n"
     ]
    }
   ],
   "source": [
    "# Ensure both datasets have the same feature names\n",
    "common_features = X_train_resampled.columns.intersection(X_test.columns)\n",
    "\n",
    "# Select only those features\n",
    "X_train_resampled = X_train_resampled[common_features]\n",
    "X_test = X_test[common_features]\n",
    "\n",
    "# Train the model again\n",
    "model.fit(X_train_resampled, y_train_resampled)\n",
    "\n",
    "# Predict on test data  \n",
    "predictions = model.predict(X_test)\n",
    "\n",
    "# Evaluate performance  \n",
    "mae = mean_absolute_error(y_test, predictions)\n",
    "print(f\"🔥 New Random Forest MAE: {mae:.4f}\")\n",
    "\n"
   ]
  },
  {
   "cell_type": "code",
   "execution_count": null,
   "metadata": {},
   "outputs": [],
   "source": []
  },
  {
   "cell_type": "code",
   "execution_count": 28,
   "metadata": {},
   "outputs": [],
   "source": [
    "# Apply log transformation (adding 1 to avoid log(0))\n",
    "X_train_resampled['circulating_supply_log'] = np.log1p(X_train_resampled['circulating_supply'])\n",
    "X_test['circulating_supply_log'] = np.log1p(X_test['circulating_supply'])\n",
    "\n",
    "# Drop the original feature\n",
    "X_train_resampled.drop(columns=['circulating_supply'], inplace=True)\n",
    "X_test.drop(columns=['circulating_supply'], inplace=True)"
   ]
  },
  {
   "cell_type": "markdown",
   "metadata": {},
   "source": []
  },
  {
   "cell_type": "code",
   "execution_count": 29,
   "metadata": {},
   "outputs": [
    {
     "name": "stdout",
     "output_type": "stream",
     "text": [
      "🔥 New MAE after removing 'total_volume': 3.1966771171446284\n"
     ]
    }
   ],
   "source": [
    "X_train_resampled.drop(columns=['total_volume'], inplace=True)\n",
    "X_test.drop(columns=['total_volume'], inplace=True)\n",
    "\n",
    "# Retrain the model\n",
    "model.fit(X_train_resampled, y_train_resampled)\n",
    "\n",
    "# Predict on test data\n",
    "predictions = model.predict(X_test)\n",
    "\n",
    "# Evaluate performance\n",
    "new_mae = mean_absolute_error(y_test, predictions)\n",
    "print(f\"🔥 New MAE after removing 'total_volume': {new_mae}\")"
   ]
  },
  {
   "cell_type": "code",
   "execution_count": 30,
   "metadata": {},
   "outputs": [],
   "source": [
    "X_test[\"predicted_price_change\"] = rf_predictions\n"
   ]
  },
  {
   "cell_type": "code",
   "execution_count": null,
   "metadata": {},
   "outputs": [
    {
     "data": {
      "text/plain": [
       "array([-4.2337188, -4.0223904, -2.934321 , -4.2597053, -3.9110851,\n",
       "       -0.5688614, -4.1650271, -0.0269188, -5.0996195, -0.5832014,\n",
       "       -0.9821046, -2.7744368, -8.0157561, -4.2962347, -2.6906408,\n",
       "       -1.4949743, -2.4558272, -3.9520471, -2.1336285, -4.4571621])"
      ]
     },
     "execution_count": 44,
     "metadata": {},
     "output_type": "execute_result"
    }
   ],
   "source": [
    "rf_predictions"
   ]
  },
  {
   "cell_type": "code",
   "execution_count": 38,
   "metadata": {},
   "outputs": [],
   "source": [
    "\n",
    "\n",
    "selected_features = [\"market_cap\", \"circulating_supply_log\"]  # Use the transformed feature name\n",
    "X_test = X_test[selected_features]\n",
    "\n",
    "predictions = model.predict(X_test)"
   ]
  },
  {
   "cell_type": "code",
   "execution_count": 39,
   "metadata": {},
   "outputs": [
    {
     "data": {
      "text/plain": [
       "array([-3.85727147, -3.76210512, -3.8861714 , -3.93698823, -4.08473136,\n",
       "       -4.2037013 , -3.70539574, -4.23843675, -4.49185087, -4.2289187 ,\n",
       "       -4.2146412 , -4.03224055, -4.0919788 , -4.0763774 , -4.52592325,\n",
       "       -4.15074602, -4.0577068 , -4.31518054, -4.15856101, -4.07555615])"
      ]
     },
     "execution_count": 39,
     "metadata": {},
     "output_type": "execute_result"
    }
   ],
   "source": [
    "predictions"
   ]
  },
  {
   "cell_type": "code",
   "execution_count": 43,
   "metadata": {},
   "outputs": [
    {
     "name": "stdout",
     "output_type": "stream",
     "text": [
      "X_train columns: ['market_cap', 'total_volume', 'circulating_supply']\n",
      "X_test columns: ['market_cap', 'total_volume', 'circulating_supply']\n"
     ]
    }
   ],
   "source": [
    "print(\"X_train columns:\", list(X_train.columns))\n",
    "print(\"X_test columns:\", list(X_test.columns))\n"
   ]
  },
  {
   "cell_type": "code",
   "execution_count": 44,
   "metadata": {},
   "outputs": [
    {
     "name": "stdout",
     "output_type": "stream",
     "text": [
      "✅ AI Predictions successfully saved to Snowflake!\n"
     ]
    }
   ],
   "source": [
    "import numpy as np\n",
    "\n",
    "# Ensure X_test has the same feature transformations as X_train\n",
    "X_test = X_test.copy()\n",
    "\n",
    "# Apply log transformation if needed (must match training phase)\n",
    "if \"circulating_supply\" in X_test.columns:\n",
    "    X_test[\"circulating_supply_log\"] = np.log1p(X_test[\"circulating_supply\"])  # Apply log transform\n",
    "    X_test.drop(columns=[\"circulating_supply\"], inplace=True)  # Remove raw column\n",
    "\n",
    "# Ensure X_test has only the features used during model training\n",
    "X_test = X_test.reindex(columns=model.feature_names_in_, fill_value=0)  # Align with model's expected features\n",
    "\n",
    "# Get symbols corresponding to test indices\n",
    "symbol_column = df.loc[X_test.index, \"symbol\"].reset_index(drop=True)\n",
    "\n",
    "# Convert predictions to DataFrame\n",
    "predictions_df = pd.DataFrame({\n",
    "    \"symbol\": symbol_column,  # Fetch symbols from original data\n",
    "    \"actual_price_change\": y_test.reset_index(drop=True),  # Ensure alignment\n",
    "    \"predicted_price_change\": model.predict(X_test)  # Model prediction\n",
    "})\n",
    "\n",
    "# Save predictions to Snowflake\n",
    "predictions_df.to_sql(\n",
    "    \"crypto_market_predictions\",\n",
    "    con=engine,\n",
    "    if_exists=\"replace\",  # Replace existing table if exists\n",
    "    index=False\n",
    ")\n",
    "\n",
    "print(\"✅ AI Predictions successfully saved to Snowflake!\")\n"
   ]
  },
  {
   "cell_type": "code",
   "execution_count": 45,
   "metadata": {},
   "outputs": [
    {
     "name": "stdout",
     "output_type": "stream",
     "text": [
      "Requirement already satisfied: joblib in c:\\users\\dhanyatha\\appdata\\local\\programs\\python\\python312\\lib\\site-packages (1.4.2)\n"
     ]
    }
   ],
   "source": [
    "# lets save the model\n",
    "! pip install joblib\n",
    "\n"
   ]
  },
  {
   "cell_type": "code",
   "execution_count": 46,
   "metadata": {},
   "outputs": [
    {
     "name": "stdout",
     "output_type": "stream",
     "text": [
      "✅ Model saved successfully as 'crypto_price_predictor.pkl'\n"
     ]
    }
   ],
   "source": [
    "import joblib\n",
    "\n",
    "# Assuming `model` is your trained scikit-learn model\n",
    "joblib.dump(model, \"crypto_price_predictor.pkl\")\n",
    "print(\"✅ Model saved successfully as 'crypto_price_predictor.pkl'\")"
   ]
  },
  {
   "cell_type": "code",
   "execution_count": 48,
   "metadata": {},
   "outputs": [
    {
     "name": "stdout",
     "output_type": "stream",
     "text": [
      "📊 Model Performance Metrics:\n",
      "MAE: 3.1374\n",
      "MSE: 13.0277\n",
      "RMSE: 3.6094\n",
      "R² Score: -0.0197\n"
     ]
    }
   ],
   "source": [
    "from sklearn.metrics import mean_absolute_error, mean_squared_error, r2_score\n",
    "\n",
    "# Assuming y_test = actual values, y_pred = predicted values\n",
    "mae = mean_absolute_error(y_test, y_pred)\n",
    "mse = mean_squared_error(y_test, y_pred)\n",
    "rmse = np.sqrt(mse)  # Root Mean Squared Error\n",
    "r2 = r2_score(y_test, y_pred)  # R-squared score\n",
    "\n",
    "print(f\"📊 Model Performance Metrics:\")\n",
    "print(f\"MAE: {mae:.4f}\")\n",
    "print(f\"MSE: {mse:.4f}\")\n",
    "print(f\"RMSE: {rmse:.4f}\")\n",
    "print(f\"R² Score: {r2:.4f}\")\n"
   ]
  },
  {
   "cell_type": "code",
   "execution_count": 49,
   "metadata": {},
   "outputs": [
    {
     "data": {
      "image/png": "[encoded data removed]",
      "text/plain": [
       "<Figure size 800x500 with 1 Axes>"
      ]
     },
     "metadata": {},
     "output_type": "display_data"
    }
   ],
   "source": [
    "plt.figure(figsize=(8,5))\n",
    "sns.histplot(y_test - y_pred, bins=30, kde=True, color=\"purple\")\n",
    "plt.title(\"Residuals Distribution\")\n",
    "plt.xlabel(\"Prediction Error\")\n",
    "plt.ylabel(\"Frequency\")\n",
    "plt.show()\n"
   ]
  },
  {
   "cell_type": "code",
   "execution_count": null,
   "metadata": {},
   "outputs": [],
   "source": []
  }
 ],
 "metadata": {
  "kernelspec": {
   "display_name": "Python 3",
   "language": "python",
   "name": "python3"
  },
  "language_info": {
   "codemirror_mode": {
    "name": "ipython",
    "version": 3
   },
   "file_extension": ".py",
   "mimetype": "text/x-python",
   "name": "python",
   "nbconvert_exporter": "python",
   "pygments_lexer": "ipython3",
   "version": "3.12.2"
  }
 },
 "nbformat": 4,
 "nbformat_minor": 2
}
